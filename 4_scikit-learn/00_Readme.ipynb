{
 "cells": [
  {
   "cell_type": "markdown",
   "metadata": {},
   "source": [
    "Scikit-learn Tutorial\n",
    "================================"
   ]
  },
  {
   "cell_type": "markdown",
   "metadata": {},
   "source": [
    "---\n",
    "- This presentation is part of the [__Scientific Python Training Series__](https://github.com/burkesquires/scientific_python_training). \n",
    "- Source: This material adapted from Andreas Mueller and Kyle Kastner [scikit-learn tutorial](http://github.com/amueller/scipy_2015_sklearn_tutorial)\n",
    "---"
   ]
  },
  {
   "cell_type": "markdown",
   "metadata": {},
   "source": [
    "## Outline"
   ]
  },
  {
   "cell_type": "markdown",
   "metadata": {},
   "source": [
    "### Morning Session"
   ]
  },
  {
   "cell_type": "markdown",
   "metadata": {},
   "source": [
    "- What is machine learning? (Sample applications)\n",
    "- Kinds of machine learning: unsupervised vs supervised.\n",
    "- Data formats and preparation.\n",
    "- Supervised learning\n",
    "    - Interface\n",
    "    - Training and test data\n",
    "    - Classification\n",
    "    - Regression\n",
    "- Unsupervised Learning\n",
    "    - Unsupervised transformers\n",
    "    - Preprocessing and scaling\n",
    "    - Dimensionality reduction\n",
    "    - Clustering\n",
    "- Summary : Estimator interface\n",
    "- Application : Classification of digits\n",
    "- Application : Eigenfaces\n",
    "- Methods: Text feature abstraction, bag of words\n",
    "- Application : SMS spam detection\n",
    "- Summary : Model building and generalization"
   ]
  },
  {
   "cell_type": "markdown",
   "metadata": {},
   "source": [
    "### Afternoon Session"
   ]
  },
  {
   "cell_type": "markdown",
   "metadata": {},
   "source": [
    "- Cross-Validation\n",
    "- Model Complexity: Overfitting and underfitting\n",
    "- Complexity of various model types\n",
    "- Grid search for adjusting hyperparameters \n",
    "- Basic regression with cross-validation\n",
    "- Application : Titanic survival with Random Forest\n",
    "- Building Pipelines\n",
    "    - Motivation and Basics\n",
    "    - Preprocessing and Classification\n",
    "    - Grid-searching Parameters of the feature extraction\n",
    "- Application : Image classification\n",
    "- Model complexity, learning curves and validation curves\n",
    "- In-Depth supervised models\n",
    "    - Linear Models\n",
    "    - Kernel SVMs\n",
    "    - trees and Forests\n",
    "- Learning with Big Data\n",
    "    - Out-Of-Core learning\n",
    "    - The hashing trick for large text corpuses"
   ]
  },
  {
   "cell_type": "code",
   "execution_count": null,
   "metadata": {},
   "outputs": [],
   "source": []
  }
 ],
 "metadata": {
  "kernelspec": {
   "display_name": "Python 3",
   "language": "python",
   "name": "python3"
  },
  "language_info": {
   "codemirror_mode": {
    "name": "ipython",
    "version": 3
   },
   "file_extension": ".py",
   "mimetype": "text/x-python",
   "name": "python",
   "nbconvert_exporter": "python",
   "pygments_lexer": "ipython3",
   "version": "3.7.1"
  }
 },
 "nbformat": 4,
 "nbformat_minor": 2
}
