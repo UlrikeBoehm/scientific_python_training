{
 "cells": [
  {
   "cell_type": "code",
   "execution_count": 1,
   "metadata": {},
   "outputs": [
    {
     "name": "stdout",
     "output_type": "stream",
     "text": [
      "Using python in /Users/squiresrb/anaconda3/envs/sci_python\n",
      "3.6.7 | packaged by conda-forge | (default, Feb 28 2019, 02:16:08) \n",
      "[GCC 4.2.1 Compatible Clang 4.0.1 (tags/RELEASE_401/final)]\n",
      "\n",
      "[ OK ] numpy version 1.16.2\n",
      "[ OK ] scipy version 1.2.1\n",
      "[ OK ] matplotlib version 3.0.3\n",
      "[ OK ] IPython version 7.4.0\n",
      "[ OK ] sklearn version 0.20.3\n",
      "[ OK ] pydot version 1.4.1\n",
      "[FAIL] Image not installed. The Image module is not installed. Please install the Pillow package, which provides it.\n"
     ]
    }
   ],
   "source": [
    "%run -i notebooks/00_check_env.py"
   ]
  },
  {
   "cell_type": "code",
   "execution_count": null,
   "metadata": {},
   "outputs": [],
   "source": []
  }
 ],
 "metadata": {
  "kernelspec": {
   "display_name": "Python 3",
   "language": "python",
   "name": "python3"
  },
  "language_info": {
   "codemirror_mode": {
    "name": "ipython",
    "version": 3
   },
   "file_extension": ".py",
   "mimetype": "text/x-python",
   "name": "python",
   "nbconvert_exporter": "python",
   "pygments_lexer": "ipython3",
   "version": "3.6.7"
  }
 },
 "nbformat": 4,
 "nbformat_minor": 2
}
