{
 "cells": [
  {
   "cell_type": "markdown",
   "metadata": {
    "slideshow": {
     "slide_type": "fragment"
    }
   },
   "source": [
    "<img align=left src=\"https://www.python.org/static/community_logos/python-logo-master-v3-TM.png\">"
   ]
  },
  {
   "cell_type": "markdown",
   "metadata": {
    "slideshow": {
     "slide_type": "skip"
    }
   },
   "source": [
    "# Resources"
   ]
  },
  {
   "cell_type": "markdown",
   "metadata": {
    "slideshow": {
     "slide_type": "skip"
    }
   },
   "source": [
    "Official Documentation\n",
    "\n",
    "* [The Python Official Docs](http://docs.python.org/3/)\n",
    "* [Official Style Guide for Python](https://www.python.org/dev/peps/pep-0008/)\n",
    "\n",
    "Awesome Python\n",
    "* [A curated list of awesome Python frameworks, libraries and software](https://github.com/vinta/awesome-python)\n",
    "\n",
    "Training Resources\n",
    "\n",
    "* [A Crash Course in Python for Scientists](http://nbviewer.jupyter.org/gist/anonymous/5924718)\n",
    "* [First Steps With Python](https://realpython.com/learn/python-first-steps/)\n",
    "- http://interactivepython.org/runestone/default/user/login\n",
    "- http://www.pythonforbeginners.com\n",
    "- http://www.pythontutor.com/visualize.html#mode=display\n",
    "- https://groklearning.com\n",
    "- https://www.pythonanywhere.com/\n",
    "* [Hitchhiker's Guide to Python](http://docs.python-guide.org/en/latest/)\n",
    "* [Python 3 Computer Science Circles](http://cscircles.cemc.uwaterloo.ca/)\n",
    "* [Dive Into Python 3](http://www.diveintopython3.net/index.html)\n",
    "* [Python Course](http://www.python-course.eu/index.php)\n",
    "* [30 Python Language Features and Tricks You May Not Know About](http://sahandsaba.com/thirty-python-language-features-and-tricks-you-may-not-know.html)\n",
    "\n",
    "\n",
    "Free eBook in HTML / PDF\n",
    "\n",
    "* [Automate the Boring Stuff with Python](https://automatetheboringstuff.com)\n",
    "- [Python for Everybody: Exploring Data In Python 3 (free ebook)](https://www.pythonlearn.com/book.php)\n",
    "- [How to Think Like A Computer Scientist (free ebook)](http://www.greenteapress.com/thinkpython/)\n",
    "- [Python for Biologists](http://pythonforbiologists.com)\n",
    "- [PyData 101 talk](https://speakerdeck.com/jakevdp/pydata-101)\n",
    "- http://interactivepython.org/runestone/default/user/login\n",
    "- http://openbookproject.net/books/bpp4awd/index.html\n",
    "\n",
    "\n",
    "Python Regular Expressions (pattern matching)\n",
    "\n",
    "- http://www.pyregex.com\n",
    "- http://pythex.org\n",
    "\n",
    "\n",
    "Python CheatSheets\n",
    "\n",
    "- https://www.pythonsheets.com\n",
    "\n",
    "Project Ideas\n",
    "\n",
    "* [Ideas for Python Projects](http://pythonpracticeprojects.com)\n",
    "\n",
    "Python Developer Survey\n",
    "\n",
    "- https://www.jetbrains.com/research/python-developers-survey-2017/\n",
    "\n",
    "Video\n",
    "\n",
    "- [PyVideo.org](https://pyvideo.org/)\n",
    "- [PyCon](https://www.youtube.com/channel/UCsX05-2sVSH7Nx3zuk3NYuQ)\n",
    "- [PyData](https://www.youtube.com/channel/UCOjD18EJYcsBog4IozkF_7w)"
   ]
  },
  {
   "cell_type": "markdown",
   "metadata": {
    "slideshow": {
     "slide_type": "skip"
    }
   },
   "source": [
    "---"
   ]
  },
  {
   "cell_type": "markdown",
   "metadata": {
    "slideshow": {
     "slide_type": "skip"
    }
   },
   "source": [
    "Visualize Python Code execution:\n",
    "- http://www.pythontutor.com/visualize.html"
   ]
  },
  {
   "cell_type": "markdown",
   "metadata": {},
   "source": [
    "Python Programming Tutorial Videos\n",
    "- https://www.youtube.com/playlist?list=PLi01XoE8jYohWFPpC17Z-wWhPOSuh8Er-"
   ]
  },
  {
   "cell_type": "markdown",
   "metadata": {},
   "source": [
    "Pretty Printed - Python Web Development Video Courses\n",
    "- https://prettyprinted.com"
   ]
  },
  {
   "cell_type": "markdown",
   "metadata": {},
   "source": [
    "Automate the Boring Stuff\n",
    "- Book https://www.amazon.com/gp/product/B00WJ049VU/ref=as_li_qf_sp_asin_il_tl?ie=UTF8&camp=1789&creative=9325&creativeASIN=B00WJ049VU&linkCode=as2&tag=mickensblo-20&linkId=4IESNYH6IUN52LNU\n"
   ]
  },
  {
   "cell_type": "markdown",
   "metadata": {},
   "source": [
    "Head First Python: A Brain-Friendly Guide\n",
    "- https://www.amazon.com/gp/product/1491919531/ref=as_li_qf_asin_il_tl?ie=UTF8&tag=mickensblo-20&creative=9325&linkCode=as2&creativeASIN=1491919531&linkId=a8f7a74c7f83a96ebeb5ecd66912b9fb"
   ]
  },
  {
   "cell_type": "markdown",
   "metadata": {},
   "source": [
    "PealPython Tutorials\n",
    "- https://realpython.com"
   ]
  },
  {
   "cell_type": "markdown",
   "metadata": {},
   "source": [
    "CodeCombat python learning for kids\n",
    "- https://codecombat.com"
   ]
  },
  {
   "cell_type": "markdown",
   "metadata": {},
   "source": []
  }
 ],
 "metadata": {
  "anaconda-cloud": {},
  "gist_id": "cedf51e5d24af8694bfe",
  "kernelspec": {
   "display_name": "Python 3",
   "language": "python",
   "name": "python3"
  },
  "language_info": {
   "codemirror_mode": {
    "name": "ipython",
    "version": 3
   },
   "file_extension": ".py",
   "mimetype": "text/x-python",
   "name": "python",
   "nbconvert_exporter": "python",
   "pygments_lexer": "ipython3",
   "version": "3.6.6"
  }
 },
 "nbformat": 4,
 "nbformat_minor": 2
}
